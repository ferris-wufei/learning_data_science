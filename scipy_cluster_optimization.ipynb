{
 "cells": [
  {
   "cell_type": "code",
   "execution_count": 1,
   "metadata": {},
   "outputs": [],
   "source": [
    "import scipy\n",
    "import numpy as np\n",
    "from scipy.optimize import minimize_scalar, minimize, LinearConstraint"
   ]
  },
  {
   "cell_type": "markdown",
   "execution_count": 5,
   "metadata": {},
   "outputs": [
    {
     "ename": "TypeError",
     "evalue": "string argument without an encoding",
     "output_type": "error",
     "traceback": [
      "\u001b[0;31m---------------------------------------------------------------------------\u001b[0m",
      "\u001b[0;31mTypeError\u001b[0m                                 Traceback (most recent call last)",
      "\u001b[0;32m<ipython-input-5-e3f12c7164fc>\u001b[0m in \u001b[0;36m<module>\u001b[0;34m\u001b[0m\n\u001b[1;32m      6\u001b[0m     \u001b[0;34m\"https://archive.ics.uci.edu/ml/machine-learning-databases/00228/smsspamcollection.zip\"\u001b[0m\u001b[0;34m\u001b[0m\u001b[0;34m\u001b[0m\u001b[0m\n\u001b[1;32m      7\u001b[0m )\n\u001b[0;32m----> 8\u001b[0;31m \u001b[0mdf\u001b[0m \u001b[0;34m=\u001b[0m \u001b[0mpd\u001b[0m\u001b[0;34m.\u001b[0m\u001b[0mread_csv\u001b[0m\u001b[0;34m(\u001b[0m\u001b[0mio\u001b[0m\u001b[0;34m.\u001b[0m\u001b[0mBytesIO\u001b[0m\u001b[0;34m(\u001b[0m\u001b[0mr\u001b[0m\u001b[0;34m.\u001b[0m\u001b[0mread\u001b[0m\u001b[0;34m(\u001b[0m\u001b[0;34m\"SMSSpamCollection\"\u001b[0m\u001b[0;34m)\u001b[0m\u001b[0;34m)\u001b[0m\u001b[0;34m,\u001b[0m \u001b[0mcompression\u001b[0m\u001b[0;34m=\u001b[0m\u001b[0;34m'zip'\u001b[0m\u001b[0;34m,\u001b[0m \u001b[0msep\u001b[0m\u001b[0;34m=\u001b[0m\u001b[0;34m'|'\u001b[0m\u001b[0;34m,\u001b[0m \u001b[0mheader\u001b[0m\u001b[0;34m=\u001b[0m\u001b[0;32mNone\u001b[0m\u001b[0;34m)\u001b[0m\u001b[0;34m\u001b[0m\u001b[0;34m\u001b[0m\u001b[0m\n\u001b[0m",
      "\u001b[0;32m/opt/conda/envs/py37/lib/python3.7/http/client.py\u001b[0m in \u001b[0;36mread\u001b[0;34m(self, amt)\u001b[0m\n\u001b[1;32m    454\u001b[0m         \u001b[0;32mif\u001b[0m \u001b[0mamt\u001b[0m \u001b[0;32mis\u001b[0m \u001b[0;32mnot\u001b[0m \u001b[0;32mNone\u001b[0m\u001b[0;34m:\u001b[0m\u001b[0;34m\u001b[0m\u001b[0;34m\u001b[0m\u001b[0m\n\u001b[1;32m    455\u001b[0m             \u001b[0;31m# Amount is given, implement using readinto\u001b[0m\u001b[0;34m\u001b[0m\u001b[0;34m\u001b[0m\u001b[0;34m\u001b[0m\u001b[0m\n\u001b[0;32m--> 456\u001b[0;31m             \u001b[0mb\u001b[0m \u001b[0;34m=\u001b[0m \u001b[0mbytearray\u001b[0m\u001b[0;34m(\u001b[0m\u001b[0mamt\u001b[0m\u001b[0;34m)\u001b[0m\u001b[0;34m\u001b[0m\u001b[0;34m\u001b[0m\u001b[0m\n\u001b[0m\u001b[1;32m    457\u001b[0m             \u001b[0mn\u001b[0m \u001b[0;34m=\u001b[0m \u001b[0mself\u001b[0m\u001b[0;34m.\u001b[0m\u001b[0mreadinto\u001b[0m\u001b[0;34m(\u001b[0m\u001b[0mb\u001b[0m\u001b[0;34m)\u001b[0m\u001b[0;34m\u001b[0m\u001b[0;34m\u001b[0m\u001b[0m\n\u001b[1;32m    458\u001b[0m             \u001b[0;32mreturn\u001b[0m \u001b[0mmemoryview\u001b[0m\u001b[0;34m(\u001b[0m\u001b[0mb\u001b[0m\u001b[0;34m)\u001b[0m\u001b[0;34m[\u001b[0m\u001b[0;34m:\u001b[0m\u001b[0mn\u001b[0m\u001b[0;34m]\u001b[0m\u001b[0;34m.\u001b[0m\u001b[0mtobytes\u001b[0m\u001b[0;34m(\u001b[0m\u001b[0;34m)\u001b[0m\u001b[0;34m\u001b[0m\u001b[0;34m\u001b[0m\u001b[0m\n",
      "\u001b[0;31mTypeError\u001b[0m: string argument without an encoding"
     ]
    }
   ],
   "source": [
    "- minimize_scalar() and minimize() to minimize a function of one ariable and many variables, respectively\n",
    "- curve_fit() to fit a function to a set of data\n",
    "- root_scalar() and root() to find the zeros of a function of one - variable and many variables, respectively\n",
    "- linprog() to minimize a linear objective function with linear inequality and equality constraints"
   ]
  },
  {
   "cell_type": "markdown",
   "execution_count": null,
   "metadata": {},
   "outputs": [],
   "source": [
    "## Minimizing a Function With One Variable\n",
    "\n",
    "Note: As you may know, not every function has a minimum. For instance, try and see what happens if your objective function is y = x³. For minimize_scalar(), objective functions with no minimum often result in an OverflowError because the optimizer eventually tries a number that is too big to be calculated by the computer.\n",
    "\n",
    "On the opposite side of functions with no minimum are functions that have several minima. In these cases, minimize_scalar() is **not guaranteed to find the global minimum of the function**. However, minimize_scalar() has a method keyword argument that you can specify to control the solver that’s used for the optimization. The SciPy library has three built-in methods for scalar minimization:\n",
    "\n",
    "1. brent is an implementation of Brent’s algorithm. This method is the default.\n",
    "2. golden is an implementation of the golden-section search. The documentation notes that Brent’s method is usually better.\n",
    "3. bounded is a bounded implementation of Brent’s algorithm. It’s useful to limit the search region when the minimum is in a known range.\n",
    "\n",
    "When method is either brent or golden, minimize_scalar() takes another argument called bracket. This is a sequence of two or three elements that provide an initial guess for the bounds of the region with the minimum. **However, these solvers do not guarantee that the minimum found will be within this range.**\n",
    "\n",
    "On the other hand, when method is bounded, minimize_scalar() takes another argument called bounds. This is a sequence of two elements that strictly bound the search region for the minimum. Try out the bounded method with the function y = x⁴ - x². This function is plotted in the figure below:"
   ]
  },
  {
   "cell_type": "code",
   "execution_count": 2,
   "metadata": {},
   "outputs": [
    {
     "data": {
      "text/plain": "     fun: 0.17451818777634331\n    nfev: 16\n     nit: 12\n success: True\n       x: 0.5503212087491959"
     },
     "execution_count": 2,
     "metadata": {},
     "output_type": "execute_result"
    }
   ],
   "source": [
    "# a simple example, only 1 minima\n",
    "def objectiv_function(x):\n",
    "    return 3 * x ** 4 - 2 * x + 1\n",
    "\n",
    "res = minimize_scalar(objectiv_function)\n",
    "\n",
    "res"
   ]
  },
  {
   "cell_type": "code",
   "execution_count": 3,
   "metadata": {},
   "outputs": [
    {
     "data": {
      "text/plain": "     fun: -0.24999999999998732\n message: 'Solution found.'\n    nfev: 10\n  status: 0\n success: True\n       x: -0.707106701474177"
     },
     "execution_count": 3,
     "metadata": {},
     "output_type": "execute_result"
    }
   ],
   "source": [
    "# use `bounded` method to search minima within some interval\n",
    "def objective_function(x):\n",
    "    return x ** 4 - x ** 2\n",
    "\n",
    "res = minimize_scalar(\n",
    "    objective_function,\n",
    "    method='bounded',\n",
    "    bounds=(-1, 0),\n",
    ")\n",
    "\n",
    "res"
   ]
  },
  {
   "cell_type": "markdown",
   "execution_count": null,
   "metadata": {},
   "outputs": [],
   "source": [
    "## Minimizing a Function With Many Variables\n",
    "\n",
    "ref: [scipy.optimize.minimize](https://docs.scipy.org/doc/scipy/reference/generated/scipy.optimize.minimize.html)"
   ]
  },
  {
   "cell_type": "code",
   "execution_count": 4,
   "metadata": {},
   "outputs": [
    {
     "name": "stdout",
     "output_type": "stream",
     "text": "[0.77132064 0.02075195 0.63364823 0.74880388 0.49850701 0.22479665\n 0.19806286 0.76053071 0.16911084 0.08833981]\n[1 1 1 3 1 3 3 2 1 1]\n[ 1.29647768 48.18824404  1.57816269  4.00638948  2.00598984 13.34539487\n 15.14670609  2.62974258  5.91328161 11.3199242 ]\n"
    }
   ],
   "source": [
    "# generate data\n",
    "n_buyers = 10\n",
    "n_shares = 15\n",
    "\n",
    "np.random.seed(10)\n",
    "prices = np.random.random(n_buyers)\n",
    "money_available = np.random.randint(1, 4, n_buyers)\n",
    "n_shares_per_buyer = money_available / prices\n",
    "\n",
    "print(prices, money_available, n_shares_per_buyer, sep=\"\\n\")"
   ]
  },
  {
   "cell_type": "code",
   "execution_count": 5,
   "metadata": {},
   "outputs": [],
   "source": [
    "# NOTE: constraint must be a list of dicts\n",
    "constraint = [{'type': 'eq', 'fun': lambda x: sum(x) - n_shares}]\n",
    "\n",
    "# create the bounds for the solution variable\n",
    "bounds = [(0, n) for n in n_shares_per_buyer]"
   ]
  },
  {
   "cell_type": "code",
   "execution_count": 6,
   "metadata": {},
   "outputs": [
    {
     "data": {
      "text/plain": "     fun: -8.783020157087478\n     jac: array([-0.7713207 , -0.02075195, -0.63364828, -0.74880385, -0.49850702,\n       -0.22479665, -0.1980629 , -0.76053071, -0.16911089, -0.08833981])\n message: 'Optimization terminated successfully.'\n    nfev: 204\n     nit: 17\n    njev: 17\n  status: 0\n success: True\n       x: array([1.29647768e+00, 2.78286565e-13, 1.57816269e+00, 4.00638948e+00,\n       2.00598984e+00, 3.48323773e+00, 3.19744231e-14, 2.62974258e+00,\n       2.38121197e-14, 8.84962214e-14])"
     },
     "execution_count": 6,
     "metadata": {},
     "output_type": "execute_result"
    }
   ],
   "source": [
    "# maximize y -> minimize -y\n",
    "def objective_function(x, prices):\n",
    "    return -x.dot(prices)\n",
    "\n",
    "# optimize with inital guess\n",
    "res = minimize(\n",
    "    objective_function,\n",
    "    x0=10 * np.random.random(n_buyers), # inital guess\n",
    "    args=(prices,), # additional arguments to objective_function()\n",
    "    constraints=constraint,\n",
    "    bounds=bounds,\n",
    ")\n",
    "\n",
    "res"
   ]
  },
  {
   "cell_type": "code",
   "execution_count": 7,
   "metadata": {},
   "outputs": [
    {
     "name": "stdout",
     "output_type": "stream",
     "text": "The total number of shares is: 15.000000000000002\nLeftover money for each buyer: [3.08642001e-14 1.00000000e+00 3.09752224e-14 6.48370246e-14\n 3.28626015e-14 2.21697984e+00 3.00000000e+00 6.46149800e-14\n 1.00000000e+00 1.00000000e+00]\n"
    }
   ],
   "source": [
    "print(f\"The total number of shares is: {sum(res.x)}\")\n",
    "print(f\"Leftover money for each buyer: {money_available - res.x * prices}\")"
   ]
  }
 ],
 "metadata": {
  "kernelspec": {
   "display_name": "Python 3",
   "language": "python",
   "name": "python3"
  },
  "language_info": {
   "codemirror_mode": {
    "name": "ipython",
    "version": 3
   },
   "file_extension": ".py",
   "mimetype": "text/x-python",
   "name": "python",
   "nbconvert_exporter": "python",
   "pygments_lexer": "ipython3",
   "version": "3.7.5"
  }
 },
 "nbformat": 4,
 "nbformat_minor": 4
}